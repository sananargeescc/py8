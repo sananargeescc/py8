{
  "nbformat": 4,
  "nbformat_minor": 0,
  "metadata": {
    "colab": {
      "provenance": []
    },
    "kernelspec": {
      "name": "python3",
      "display_name": "Python 3"
    },
    "language_info": {
      "name": "python"
    }
  },
  "cells": [
    {
      "cell_type": "code",
      "execution_count": null,
      "metadata": {
        "colab": {
          "base_uri": "https://localhost:8080/"
        },
        "id": "-dfNJp-fx4nl",
        "outputId": "603ce2dc-bd23-40c7-bf16-6f3ec1e55063"
      },
      "outputs": [
        {
          "output_type": "stream",
          "name": "stdout",
          "text": [
            "enter first numbers:5\n",
            "enter second numbers:2\n",
            "addition: 7\n",
            "substraction: 3\n",
            "division: 2.5\n",
            "multiplication: 10\n",
            "square: 25\n"
          ]
        }
      ],
      "source": [
        "a=int(input(\"enter first numbers:\"))\n",
        "b=int(input(\"enter second numbers:\"))\n",
        "\n",
        "print(\"addition:\",a+b)\n",
        "print(\"substraction:\",a-b)\n",
        "print(\"division:\",a/b)\n",
        "print(\"multiplication:\",a*b)\n",
        "print(\"square:\",a**2)"
      ]
    },
    {
      "cell_type": "code",
      "source": [
        "n=int(input(\"enter the age:\"))\n",
        "if n>18:\n",
        "  print(\"eligible for vote\")\n",
        "else:\n",
        "  print(\"not eligible for vote\")  "
      ],
      "metadata": {
        "colab": {
          "base_uri": "https://localhost:8080/"
        },
        "id": "GBu8EjyZ1lGK",
        "outputId": "50155405-3e1d-4526-e29a-9d45172e7362"
      },
      "execution_count": null,
      "outputs": [
        {
          "output_type": "stream",
          "name": "stdout",
          "text": [
            "enter the age:12\n",
            "not eligible for vote\n"
          ]
        }
      ]
    },
    {
      "cell_type": "code",
      "source": [
        "list1=[\"apple\",\"banana\",\"cherry\"]\n",
        "\n",
        "list1[2]=\"orange\"\n",
        "print(list1)\n",
        "\n",
        "list1.append(\"kiwi\")\n",
        "print(list1)\n",
        "\n",
        "\n",
        "list1.insert(2,\"kiwi\")\n",
        "print(list1)\n",
        " \n",
        "list1.pop(1) \n",
        "print(list1)\n",
        "\n",
        "list1.remove(\"kiwi\")\n",
        "print(list1)\n",
        "\n",
        "del list1[2]\n",
        "print(list1)\n",
        "\n",
        "list1.clear()\n",
        "print(list1)\n",
        "\n"
      ],
      "metadata": {
        "colab": {
          "base_uri": "https://localhost:8080/"
        },
        "id": "UdL8PbqL2zKM",
        "outputId": "d97330bd-bb30-4a2b-8d05-ba7a9fe5b2f1"
      },
      "execution_count": null,
      "outputs": [
        {
          "output_type": "stream",
          "name": "stdout",
          "text": [
            "['apple', 'banana', 'orange']\n",
            "['apple', 'banana', 'orange', 'kiwi']\n",
            "['apple', 'banana', 'kiwi', 'orange', 'kiwi']\n",
            "['apple', 'kiwi', 'orange', 'kiwi']\n",
            "['apple', 'orange', 'kiwi']\n",
            "['apple', 'orange']\n",
            "[]\n"
          ]
        }
      ]
    }
  ]
}